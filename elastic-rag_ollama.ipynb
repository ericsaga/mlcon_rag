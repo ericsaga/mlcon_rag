{
 "cells": [
  {
   "cell_type": "code",
   "execution_count": 37,
   "id": "868b5bf0-e811-489d-a8af-810e40a37047",
   "metadata": {},
   "outputs": [],
   "source": [
    "import openai\n",
    "import elasticsearch"
   ]
  },
  {
   "cell_type": "code",
   "execution_count": 38,
   "id": "0272a77b-5ccb-49c4-9635-1c7b442b0d02",
   "metadata": {},
   "outputs": [
    {
     "name": "stdout",
     "output_type": "stream",
     "text": [
      "--2024-06-25 13:05:46--  https://github.com/alexeygrigorev/llm-rag-workshop/raw/main/notebooks/documents.json\n",
      "Resolving github.com (github.com)... 140.82.121.3\n",
      "Connecting to github.com (github.com)|140.82.121.3|:443... connected.\n",
      "HTTP request sent, awaiting response... 302 Found\n",
      "Location: https://raw.githubusercontent.com/alexeygrigorev/llm-rag-workshop/main/notebooks/documents.json [following]\n",
      "--2024-06-25 13:05:46--  https://raw.githubusercontent.com/alexeygrigorev/llm-rag-workshop/main/notebooks/documents.json\n",
      "Resolving raw.githubusercontent.com (raw.githubusercontent.com)... 185.199.110.133, 185.199.111.133, 185.199.108.133, ...\n",
      "Connecting to raw.githubusercontent.com (raw.githubusercontent.com)|185.199.110.133|:443... connected.\n",
      "HTTP request sent, awaiting response... 200 OK\n",
      "Length: 658332 (643K) [text/plain]\n",
      "Saving to: ‘documents.json.6’\n",
      "\n",
      "documents.json.6    100%[===================>] 642.90K  --.-KB/s    in 0.01s   \n",
      "\n",
      "2024-06-25 13:05:46 (51.5 MB/s) - ‘documents.json.6’ saved [658332/658332]\n",
      "\n"
     ]
    }
   ],
   "source": [
    "import json\n",
    "!wget https://github.com/alexeygrigorev/llm-rag-workshop/raw/main/notebooks/documents.json\n",
    "with open('./documents.json', 'rt') as f_in:\n",
    "    documents_all =json.load(f_in)\n",
    "    "
   ]
  },
  {
   "cell_type": "code",
   "execution_count": 39,
   "id": "6debe8a5-1ea1-44b4-b240-e64f0296a397",
   "metadata": {},
   "outputs": [
    {
     "data": {
      "text/plain": [
       "dict_keys(['course', 'documents'])"
      ]
     },
     "execution_count": 39,
     "metadata": {},
     "output_type": "execute_result"
    }
   ],
   "source": [
    "    documents_all[0].keys()"
   ]
  },
  {
   "cell_type": "code",
   "execution_count": 40,
   "id": "0914dc04-7606-4123-9ca5-6ff18a14b1c8",
   "metadata": {},
   "outputs": [],
   "source": [
    "documents = []\n",
    "for course in documents_all:\n",
    "    for doc in course['documents']:\n",
    "        doc['course']= course['course']\n",
    "        documents.append(doc)"
   ]
  },
  {
   "cell_type": "code",
   "execution_count": 41,
   "id": "c640ed92-2ce3-4796-ada0-22190f8c1a43",
   "metadata": {},
   "outputs": [
    {
     "data": {
      "text/plain": [
       "{'text': \"Yes, even if you don't register, you're still eligible to submit the homeworks.\\nBe aware, however, that there will be deadlines for turning in the final projects. So don't leave everything for the last minute.\",\n",
       " 'section': 'General course-related questions',\n",
       " 'question': 'Course - Can I still join the course after the start date?',\n",
       " 'course': 'data-engineering-zoomcamp'}"
      ]
     },
     "execution_count": 41,
     "metadata": {},
     "output_type": "execute_result"
    }
   ],
   "source": [
    "documents[2]"
   ]
  },
  {
   "cell_type": "markdown",
   "id": "0b2d1ea4-c3ba-4c66-a001-05de1addcee6",
   "metadata": {},
   "source": [
    "## Run elastic search client\n",
    "````\n",
    "docker run -it \\\n",
    "    --rm \\\n",
    "    --name elasticsearch \\\n",
    "    -p 9200:9200 \\\n",
    "    -p 9300:9300 \\\n",
    "    -e \"discovery.type=single-node\" \\\n",
    "    -e \"xpack.security.enabled=false\" \\\n",
    "    docker.elastic.co/elasticsearch/elasticsearch:8.4.3\n",
    "````"
   ]
  },
  {
   "cell_type": "code",
   "execution_count": 42,
   "id": "d90e1091-cd99-4562-94e6-084f267ce812",
   "metadata": {},
   "outputs": [],
   "source": [
    "#creating elastic serach plan\n",
    "from elasticsearch import Elasticsearch\n",
    "es_client = Elasticsearch(hosts=['http://localhost:9200'])\n",
    "index_name = \"course-questions\"\n",
    "# es_client.info()"
   ]
  },
  {
   "cell_type": "code",
   "execution_count": 43,
   "id": "0349d23e-020c-4b83-9ef6-b0220760a982",
   "metadata": {},
   "outputs": [],
   "source": [
    "# index_settings = {\n",
    "#     \"settings\": { #settings are importants when you have clusters\n",
    "#         \"number_of_shards\": 1,\n",
    "#         \"number_of_replicas\": 0\n",
    "#     },\n",
    "#     \"mappings\": {\n",
    "#         \"properties\": {\n",
    "#             \"text\": {\"type\": \"text\"},\n",
    "#             \"section\": {\"type\": \"text\"},\n",
    "#             \"question\": {\"type\": \"text\"},\n",
    "#             \"course\": {\"type\": \"keyword\"} \n",
    "#         }\n",
    "#     }\n",
    "# }\n",
    "\n",
    "# index_name = \"course-questions\"\n",
    "# response = es_client.indices.create(index=index_name, body=index_settings)\n",
    "# #I think thisis  only ran once\n",
    "# response"
   ]
  },
  {
   "cell_type": "code",
   "execution_count": 44,
   "id": "ec84ba09-bbca-4aab-8d2f-8ab35c471775",
   "metadata": {},
   "outputs": [],
   "source": [
    "from tqdm.auto import tqdm"
   ]
  },
  {
   "cell_type": "code",
   "execution_count": 45,
   "id": "0e827df4-4b3f-4a2e-9b4e-9fb01461797f",
   "metadata": {},
   "outputs": [
    {
     "name": "stderr",
     "output_type": "stream",
     "text": [
      "100%|██████████████████████████████████████████████████████████████████████████████████████████████████████████| 948/948 [00:22<00:00, 41.52it/s]\n"
     ]
    }
   ],
   "source": [
    "#save docments in our es client\n",
    "for doc in tqdm(documents):\n",
    "    es_client.index(index=index_name, document=doc)"
   ]
  },
  {
   "cell_type": "code",
   "execution_count": 46,
   "id": "38a9a6b6-cdc5-46fd-9a4e-ebe2b608dff9",
   "metadata": {},
   "outputs": [],
   "source": [
    "query = \"I just discovererd the course. Can I still join?\""
   ]
  },
  {
   "cell_type": "code",
   "execution_count": 47,
   "id": "cc0126e3-8a47-4189-8573-6c0bf6580363",
   "metadata": {},
   "outputs": [],
   "source": [
    "#turning into an elastic query\n",
    "search_query = {\n",
    "    \"size\": 5, #limit kinda thing\n",
    "    \"query\": {\n",
    "        \"bool\": { #type of query, history. two parts must (or should)  and filter\n",
    "            \"must\": {\n",
    "                \"multi_match\": {\n",
    "                    \"query\": query,\n",
    "                    \"fields\": [\"question^3\", \"text\", \"section\"], #I wanna consider alll of them, my keywords can bein any of these. ^3 means that that field is 3 times more important\n",
    "                    \"type\": \"best_fields\"\n",
    "                }\n",
    "            },\n",
    "            \"filter\": { #we filter, so we only consider documents beonging to thiscouts\n",
    "                \"term\": {\n",
    "                    \"course\": \"data-engineering-zoomcamp\"\n",
    "                }\n",
    "            }\n",
    "        }\n",
    "    }\n",
    "}"
   ]
  },
  {
   "cell_type": "code",
   "execution_count": 48,
   "id": "e8c22b81-a412-40f5-bec8-f2142f158954",
   "metadata": {},
   "outputs": [
    {
     "data": {
      "text/plain": [
       "ObjectApiResponse({'took': 499, 'timed_out': False, '_shards': {'total': 1, 'successful': 1, 'skipped': 0, 'failed': 0}, 'hits': {'total': {'value': 798, 'relation': 'eq'}, 'max_score': 73.286255, 'hits': [{'_index': 'course-questions', '_id': 'lJhrT5ABno94xw0RQ1HR', '_score': 73.286255, '_source': {'text': \"Yes, even if you don't register, you're still eligible to submit the homeworks.\\nBe aware, however, that there will be deadlines for turning in the final projects. So don't leave everything for the last minute.\", 'section': 'General course-related questions', 'question': 'Course - Can I still join the course after the start date?', 'course': 'data-engineering-zoomcamp'}}, {'_index': 'course-questions', '_id': 'SJiAT5ABno94xw0RqlVV', '_score': 73.286255, '_source': {'text': \"Yes, even if you don't register, you're still eligible to submit the homeworks.\\nBe aware, however, that there will be deadlines for turning in the final projects. So don't leave everything for the last minute.\", 'section': 'General course-related questions', 'question': 'Course - Can I still join the course after the start date?', 'course': 'data-engineering-zoomcamp'}}, {'_index': 'course-questions', '_id': 'lphrT5ABno94xw0RRFEG', '_score': 43.907658, '_source': {'text': 'You can start by installing and setting up all the dependencies and requirements:\\nGoogle cloud account\\nGoogle Cloud SDK\\nPython 3 (installed with Anaconda)\\nTerraform\\nGit\\nLook over the prerequisites and syllabus to see if you are comfortable with these subjects.', 'section': 'General course-related questions', 'question': 'Course - What can I do before the course starts?', 'course': 'data-engineering-zoomcamp'}}, {'_index': 'course-questions', '_id': 'mZhrT5ABno94xw0RRFFR', '_score': 43.907658, '_source': {'text': 'Yes, we will keep all the materials after the course finishes, so you can follow the course at your own pace after it finishes.\\nYou can also continue looking at the homeworks and continue preparing for the next cohort. I guess you can also start working on your final capstone project.', 'section': 'General course-related questions', 'question': 'Course - Can I follow the course after it finishes?', 'course': 'data-engineering-zoomcamp'}}, {'_index': 'course-questions', '_id': 'SpiAT5ABno94xw0RqlWD', '_score': 43.907658, '_source': {'text': 'You can start by installing and setting up all the dependencies and requirements:\\nGoogle cloud account\\nGoogle Cloud SDK\\nPython 3 (installed with Anaconda)\\nTerraform\\nGit\\nLook over the prerequisites and syllabus to see if you are comfortable with these subjects.', 'section': 'General course-related questions', 'question': 'Course - What can I do before the course starts?', 'course': 'data-engineering-zoomcamp'}}]}})"
      ]
     },
     "execution_count": 48,
     "metadata": {},
     "output_type": "execute_result"
    }
   ],
   "source": [
    "response = es_client.search(index=index_name, body=search_query)\n",
    "response"
   ]
  },
  {
   "cell_type": "code",
   "execution_count": 49,
   "id": "24d0f3e8-4ff2-4aee-b919-46c0d2ff3433",
   "metadata": {},
   "outputs": [
    {
     "data": {
      "text/plain": [
       "{'total': {'value': 798, 'relation': 'eq'},\n",
       " 'max_score': 73.286255,\n",
       " 'hits': [{'_index': 'course-questions',\n",
       "   '_id': 'lJhrT5ABno94xw0RQ1HR',\n",
       "   '_score': 73.286255,\n",
       "   '_source': {'text': \"Yes, even if you don't register, you're still eligible to submit the homeworks.\\nBe aware, however, that there will be deadlines for turning in the final projects. So don't leave everything for the last minute.\",\n",
       "    'section': 'General course-related questions',\n",
       "    'question': 'Course - Can I still join the course after the start date?',\n",
       "    'course': 'data-engineering-zoomcamp'}},\n",
       "  {'_index': 'course-questions',\n",
       "   '_id': 'SJiAT5ABno94xw0RqlVV',\n",
       "   '_score': 73.286255,\n",
       "   '_source': {'text': \"Yes, even if you don't register, you're still eligible to submit the homeworks.\\nBe aware, however, that there will be deadlines for turning in the final projects. So don't leave everything for the last minute.\",\n",
       "    'section': 'General course-related questions',\n",
       "    'question': 'Course - Can I still join the course after the start date?',\n",
       "    'course': 'data-engineering-zoomcamp'}},\n",
       "  {'_index': 'course-questions',\n",
       "   '_id': 'lphrT5ABno94xw0RRFEG',\n",
       "   '_score': 43.907658,\n",
       "   '_source': {'text': 'You can start by installing and setting up all the dependencies and requirements:\\nGoogle cloud account\\nGoogle Cloud SDK\\nPython 3 (installed with Anaconda)\\nTerraform\\nGit\\nLook over the prerequisites and syllabus to see if you are comfortable with these subjects.',\n",
       "    'section': 'General course-related questions',\n",
       "    'question': 'Course - What can I do before the course starts?',\n",
       "    'course': 'data-engineering-zoomcamp'}},\n",
       "  {'_index': 'course-questions',\n",
       "   '_id': 'mZhrT5ABno94xw0RRFFR',\n",
       "   '_score': 43.907658,\n",
       "   '_source': {'text': 'Yes, we will keep all the materials after the course finishes, so you can follow the course at your own pace after it finishes.\\nYou can also continue looking at the homeworks and continue preparing for the next cohort. I guess you can also start working on your final capstone project.',\n",
       "    'section': 'General course-related questions',\n",
       "    'question': 'Course - Can I follow the course after it finishes?',\n",
       "    'course': 'data-engineering-zoomcamp'}},\n",
       "  {'_index': 'course-questions',\n",
       "   '_id': 'SpiAT5ABno94xw0RqlWD',\n",
       "   '_score': 43.907658,\n",
       "   '_source': {'text': 'You can start by installing and setting up all the dependencies and requirements:\\nGoogle cloud account\\nGoogle Cloud SDK\\nPython 3 (installed with Anaconda)\\nTerraform\\nGit\\nLook over the prerequisites and syllabus to see if you are comfortable with these subjects.',\n",
       "    'section': 'General course-related questions',\n",
       "    'question': 'Course - What can I do before the course starts?',\n",
       "    'course': 'data-engineering-zoomcamp'}}]}"
      ]
     },
     "execution_count": 49,
     "metadata": {},
     "output_type": "execute_result"
    }
   ],
   "source": [
    "response['hits']"
   ]
  },
  {
   "cell_type": "code",
   "execution_count": 50,
   "id": "2baa56a9-c3de-482e-b529-e806238b2109",
   "metadata": {},
   "outputs": [
    {
     "name": "stdout",
     "output_type": "stream",
     "text": [
      "Section: General course-related questions\n",
      "Question: Course - Can I still join the course after the start date?\n",
      "Answer: Yes, even if you don't register, you're still eligible to su...\n",
      "\n",
      "Section: General course-related questions\n",
      "Question: Course - Can I still join the course after the start date?\n",
      "Answer: Yes, even if you don't register, you're still eligible to su...\n",
      "\n",
      "Section: General course-related questions\n",
      "Question: Course - What can I do before the course starts?\n",
      "Answer: You can start by installing and setting up all the dependenc...\n",
      "\n",
      "Section: General course-related questions\n",
      "Question: Course - Can I follow the course after it finishes?\n",
      "Answer: Yes, we will keep all the materials after the course finishe...\n",
      "\n",
      "Section: General course-related questions\n",
      "Question: Course - What can I do before the course starts?\n",
      "Answer: You can start by installing and setting up all the dependenc...\n",
      "\n"
     ]
    }
   ],
   "source": [
    "#We can clean it by removing the index, id,score....\n",
    "relevant_docs = []\n",
    "for hit in response['hits']['hits']:\n",
    "    doc = hit['_source']\n",
    "    relevant_docs.append(doc)\n",
    "    print(f\"Section: {doc['section']}\")\n",
    "    print(f\"Question: {doc['question']}\")\n",
    "    print(f\"Answer: {doc['text'][:60]}...\\n\")"
   ]
  },
  {
   "cell_type": "code",
   "execution_count": 51,
   "id": "112652c5-3841-439d-aed9-985a27e0d227",
   "metadata": {},
   "outputs": [],
   "source": [
    "def retrieve(query):\n",
    "    search_query = {\n",
    "    \"size\": 5, #limit kinda thing\n",
    "    \"query\": {\n",
    "        \"bool\": { #type of query, history. two parts must (or should)  and filter\n",
    "            \"must\": {\n",
    "                \"multi_match\": {\n",
    "                    \"query\": query,\n",
    "                    \"fields\": [\"question^3\", \"text\", \"section\"], #I wanna consider alll of them, my keywords can bein any of these. ^3 means that that field is 3 times more important\n",
    "                    \"type\": \"best_fields\"\n",
    "                }\n",
    "            },\n",
    "            \"filter\": { #we filter, so we only consider documents beonging to thiscouts\n",
    "                \"term\": {\n",
    "                    \"course\": \"data-engineering-zoomcamp\"\n",
    "                }\n",
    "            }\n",
    "        }\n",
    "    }\n",
    "    }\n",
    "    response = es_client.search(index=index_name, body=search_query)\n",
    "    relevant_docs = []\n",
    "    for hit in response['hits']['hits']:\n",
    "        doc = hit['_source']\n",
    "        relevant_docs.append(doc)\n",
    "    return relevant_docs"
   ]
  },
  {
   "cell_type": "code",
   "execution_count": 52,
   "id": "d6d4f674-580b-480a-ad20-ecad08542bc1",
   "metadata": {},
   "outputs": [
    {
     "data": {
      "text/plain": [
       "[{'text': \"Yes, even if you don't register, you're still eligible to submit the homeworks.\\nBe aware, however, that there will be deadlines for turning in the final projects. So don't leave everything for the last minute.\",\n",
       "  'section': 'General course-related questions',\n",
       "  'question': 'Course - Can I still join the course after the start date?',\n",
       "  'course': 'data-engineering-zoomcamp'},\n",
       " {'text': \"Yes, even if you don't register, you're still eligible to submit the homeworks.\\nBe aware, however, that there will be deadlines for turning in the final projects. So don't leave everything for the last minute.\",\n",
       "  'section': 'General course-related questions',\n",
       "  'question': 'Course - Can I still join the course after the start date?',\n",
       "  'course': 'data-engineering-zoomcamp'},\n",
       " {'text': 'You can start by installing and setting up all the dependencies and requirements:\\nGoogle cloud account\\nGoogle Cloud SDK\\nPython 3 (installed with Anaconda)\\nTerraform\\nGit\\nLook over the prerequisites and syllabus to see if you are comfortable with these subjects.',\n",
       "  'section': 'General course-related questions',\n",
       "  'question': 'Course - What can I do before the course starts?',\n",
       "  'course': 'data-engineering-zoomcamp'},\n",
       " {'text': 'Yes, we will keep all the materials after the course finishes, so you can follow the course at your own pace after it finishes.\\nYou can also continue looking at the homeworks and continue preparing for the next cohort. I guess you can also start working on your final capstone project.',\n",
       "  'section': 'General course-related questions',\n",
       "  'question': 'Course - Can I follow the course after it finishes?',\n",
       "  'course': 'data-engineering-zoomcamp'},\n",
       " {'text': 'You can start by installing and setting up all the dependencies and requirements:\\nGoogle cloud account\\nGoogle Cloud SDK\\nPython 3 (installed with Anaconda)\\nTerraform\\nGit\\nLook over the prerequisites and syllabus to see if you are comfortable with these subjects.',\n",
       "  'section': 'General course-related questions',\n",
       "  'question': 'Course - What can I do before the course starts?',\n",
       "  'course': 'data-engineering-zoomcamp'}]"
      ]
     },
     "execution_count": 52,
     "metadata": {},
     "output_type": "execute_result"
    }
   ],
   "source": [
    "context_documents = retrieve(query)\n",
    "context_documents"
   ]
  },
  {
   "cell_type": "code",
   "execution_count": 53,
   "id": "4ca76044-3533-4391-8cb6-aa030a82f52f",
   "metadata": {},
   "outputs": [],
   "source": [
    "from openai import OpenAI"
   ]
  },
  {
   "cell_type": "code",
   "execution_count": 54,
   "id": "7ad56e95-4ee3-4dd3-9243-50a8b45a5a2d",
   "metadata": {},
   "outputs": [],
   "source": [
    "openai_client = OpenAI(api_key='ollama', base_url='http://localhost:11434/v1')"
   ]
  },
  {
   "cell_type": "code",
   "execution_count": 55,
   "id": "a784dc25-2fc8-462a-af36-04c5c2ba99cd",
   "metadata": {},
   "outputs": [],
   "source": [
    "context_template = \"\"\"\n",
    "Section: {section}\n",
    "Question: {question}\n",
    "Answer: {text}\n",
    "\"\"\".strip()\n",
    "\n",
    "prompt_template = \"\"\"\n",
    "You're a course teaching assistant.\n",
    "Answer the user QUESTION based on CONTEXT - the documents retrieved from our FAQ database.\n",
    "Don't use other information outside of the provided CONTEXT.  \n",
    "\n",
    "QUESTION: {user_question}\n",
    "\n",
    "CONTEXT:\n",
    "\n",
    "{context}\n",
    "\"\"\".strip()\n",
    "\n",
    "\n",
    "def build_context(documents):\n",
    "    context_result = \"\"\n",
    "    \n",
    "    for doc in documents:\n",
    "        doc_str = context_template.format(**doc)\n",
    "        context_result += (\"\\n\\n\" + doc_str)\n",
    "    \n",
    "    return context_result.strip()\n",
    "\n",
    "\n",
    "def build_prompt(user_question, documents):\n",
    "    context = build_context(documents)\n",
    "    prompt = prompt_template.format(\n",
    "        user_question=user_question,\n",
    "        context=context\n",
    "    )\n",
    "    return prompt"
   ]
  },
  {
   "cell_type": "code",
   "execution_count": 56,
   "id": "c0f8f9cf-72d6-4bb5-8d63-8e11dfcaa823",
   "metadata": {
    "scrolled": true
   },
   "outputs": [],
   "source": [
    "def llm(prompt):\n",
    "    oai_response = openai_client.chat.completions.create(\n",
    "        model='phi3',\n",
    "        messages = [{\"role\": \"user\", \"content\": prompt}])\n",
    "    answer = oai_response.choices[0].message.content\n",
    "    return answer"
   ]
  },
  {
   "cell_type": "code",
   "execution_count": 57,
   "id": "7348d032-ccd5-4f32-8b5c-d3abeb91dc93",
   "metadata": {
    "scrolled": true
   },
   "outputs": [
    {
     "name": "stdout",
     "output_type": "stream",
     "text": [
      "You're a course teaching assistant.\n",
      "Answer the user QUESTION based on CONTEXT - the documents retrieved from our FAQ database.\n",
      "Don't use other information outside of the provided CONTEXT.  \n",
      "\n",
      "QUESTION: I just discovererd the course. Can I still join?\n",
      "\n",
      "CONTEXT:\n",
      "\n",
      "Section: General course-related questions\n",
      "Question: Course - Can I still join the course after the start date?\n",
      "Answer: Yes, even if you don't register, you're still eligible to submit the homeworks.\n",
      "Be aware, however, that there will be deadlines for turning in the final projects. So don't leave everything for the last minute.\n",
      "\n",
      "Section: General course-related questions\n",
      "Question: Course - Can I still join the course after the start date?\n",
      "Answer: Yes, even if you don't register, you're still eligible to submit the homeworks.\n",
      "Be aware, however, that there will be deadlines for turning in the final projects. So don't leave everything for the last minute.\n",
      "\n",
      "Section: General course-related questions\n",
      "Question: Course - What can I do before the course starts?\n",
      "Answer: You can start by installing and setting up all the dependencies and requirements:\n",
      "Google cloud account\n",
      "Google Cloud SDK\n",
      "Python 3 (installed with Anaconda)\n",
      "Terraform\n",
      "Git\n",
      "Look over the prerequisites and syllabus to see if you are comfortable with these subjects.\n",
      "\n",
      "Section: General course-related questions\n",
      "Question: Course - Can I follow the course after it finishes?\n",
      "Answer: Yes, we will keep all the materials after the course finishes, so you can follow the course at your own pace after it finishes.\n",
      "You can also continue looking at the homeworks and continue preparing for the next cohort. I guess you can also start working on your final capstone project.\n",
      "\n",
      "Section: General course-related questions\n",
      "Question: Course - What can I do before the course starts?\n",
      "Answer: You can start by installing and setting up all the dependencies and requirements:\n",
      "Google cloud account\n",
      "Google Cloud SDK\n",
      "Python 3 (installed with Anaconda)\n",
      "Terraform\n",
      "Git\n",
      "Look over the prerequisites and syllabus to see if you are comfortable with these subjects.\n"
     ]
    }
   ],
   "source": [
    "print(build_prompt(query, context_documents))"
   ]
  },
  {
   "cell_type": "code",
   "execution_count": 58,
   "id": "a644a311-958d-483b-8ca0-bd4733bd422b",
   "metadata": {},
   "outputs": [],
   "source": [
    "#there are 3 steps\n",
    "def rag(query):\n",
    "    context_documents = retrieve(query) #1.get all relevant docs\n",
    "    prompt = build_prompt(query, context_documents) #2.prompt llm with our relevant/ context_douents\n",
    "    response = llm(prompt)\n",
    "    return response"
   ]
  },
  {
   "cell_type": "code",
   "execution_count": 59,
   "id": "1e22902a-cc74-43b4-834b-857666886ebc",
   "metadata": {},
   "outputs": [
    {
     "data": {
      "text/plain": [
       "\" Yes, even if you didn't register beforehand, you can still join the course as long as you meet any necessary requirements outlined in the course materials. However, please be aware of deadlines for submitting homeworks and final projects, so it is advisable not to leave everything until the last minute.\\n\\nAdditionally, if you're planning on joining after the start date, make sure to install and set up all necessary dependencies and requirements such as a Google Cloud account, Google Cloud SDK, Python 3 (installed with Anaconda), Terraform, and Git before beginning your coursework. Familiarize yourself with prerequisites and syllabus to ensure you're prepared for the subjects covered in the course.\""
      ]
     },
     "execution_count": 59,
     "metadata": {},
     "output_type": "execute_result"
    }
   ],
   "source": [
    "rag(query)"
   ]
  },
  {
   "cell_type": "code",
   "execution_count": null,
   "id": "f7f3caca-c7b2-41e9-9c6d-a3b254c3e7b0",
   "metadata": {},
   "outputs": [],
   "source": []
  },
  {
   "cell_type": "code",
   "execution_count": null,
   "id": "735659ca-3f2a-48ff-a49a-dac2f5d6c3de",
   "metadata": {},
   "outputs": [],
   "source": []
  },
  {
   "cell_type": "code",
   "execution_count": null,
   "id": "55e68764-18db-486e-ad95-65c047b43b19",
   "metadata": {},
   "outputs": [],
   "source": []
  }
 ],
 "metadata": {
  "kernelspec": {
   "display_name": "Python 3 (ipykernel)",
   "language": "python",
   "name": "python3"
  },
  "language_info": {
   "codemirror_mode": {
    "name": "ipython",
    "version": 3
   },
   "file_extension": ".py",
   "mimetype": "text/x-python",
   "name": "python",
   "nbconvert_exporter": "python",
   "pygments_lexer": "ipython3",
   "version": "3.10.13"
  }
 },
 "nbformat": 4,
 "nbformat_minor": 5
}
